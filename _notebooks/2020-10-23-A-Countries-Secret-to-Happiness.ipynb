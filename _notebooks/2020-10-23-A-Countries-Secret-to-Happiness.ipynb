{
 "cells": [
  {
   "cell_type": "markdown",
   "metadata": {
    "id": "iVBS3jAK6Htv"
   },
   "source": [
    "# A Countries' Secret to Happiness\n",
    "> Answering the question \"What makes us happy?\""
   ]
  },
  {
   "cell_type": "markdown",
   "metadata": {
    "id": "5QiuGbbb6Htw"
   },
   "source": [
    "## Introduction"
   ]
  },
  {
   "cell_type": "markdown",
   "metadata": {
    "id": "2FyQxbJg6Htx"
   },
   "source": [
    "As part of the Final Project for A1C1 Univ.ai's Course, the team - Vishnu, Sakthisree, Neigil and Rishab - started their journey to leverage Machine Learning for trying to answer the age-old question of - **what exactly makes us happy?**\n",
    "\n",
    "The World Happiness Report may be a point of interest survey of the state of worldwide bliss. The primary report was distributed in 2012, the second in 2013, the third in 2015, and the fourth within the 2016 Upgrade. The World Joy 2017, which positions 155 nations by their bliss levels, was discharged at the Joined together Countries at an occasion celebrating Universal Day of Joy on Walk 20th. \n",
    "\n",
    "![title](img/title.png.jpg)\n",
    "\n",
    "The report proceeds to pick up worldwide acknowledgment as governments, organizations and respectful society progressively utilize joy pointers to educate their policy-making choices. Driving specialists over areas – financial matters, brain research, overview investigation, national insights, wellbeing, open approach and more – depict how estimations of well-being can be used effectively to evaluate the advance of countries. \n",
    "\n",
    "The reports survey the state of bliss within the world nowadays and appear how the modern science of bliss clarifies individual and national varieties in bliss.\n",
    "\n",
    "There are six measurements taken per country for guaging the World Happiness Index. They consist of:\n",
    "\n",
    "1. GDP per Capita - Gross Domestic Product per capita for the countries\n",
    "\n",
    "2. Family - Satisfaction Rank of Family\n",
    "\n",
    "3. Life Expectancy - Avg. expected years to live\n",
    "\n",
    "4. Freedom - Perception of freedom quantified\n",
    "\n",
    "5. Generosity - Numerical value estimated based on the perception of Generosity experienced by poll takers in their country.\n",
    "\n",
    "6. Trust/Government Corruption - A quantification of the people's perceived trust in their governments.\n",
    "\n",
    "7. Dystopia Score - Score based on comparison to hypothetically the saddest country in the world.\n",
    "\n",
    "8. Dystopia Residual - Rank of any country in a particular year.\n",
    "\n",
    "The Happiness Score is a national average of the responses to the main life evaluation question asked in the Gallup World Poll (GWP), which uses the Cantril Ladder.\n",
    "\n",
    "The joy scores and rankings utilize information from the Gallup World Survey. The scores are based on answers to the most life evaluation address inquired within the survey. This address, known as the Cantril step, asks respondents to think of a step with the most excellent conceivable life for them being a 10 and the most exceedingly bad conceivable life being a and to rate their claim current lives on that scale. \n",
    "\n",
    "The scores are from broadly agent tests for the a long time 2013-2016 and utilize the Gallup weights to create the gauges agent. The columns taking after the bliss score assess the degree to which each of six variables – financial generation, social back, life anticipation, flexibility, nonattendance of debasement, and liberality – contribute to making life assessments higher in each nation than they are in\n",
    "\n",
    "\n",
    "**What is DYSTOPIA RESIDUAL?**\n",
    "\n",
    "Dystopia is a hypothetical country consisting of the least happy people. It was formed so as to create a benchmark to compare Happiness Scores of other countries with it. \n",
    "\n",
    "The Dystopia Residual is calculated as (Score of Dystopia+ Residual for the corresponding country). \n",
    "\n",
    "Here the Residual is a value generated for each country, which indicates if the 6 variables have under or over explained the life evaluations for each country for that particular year.\n"
   ]
  },
  {
   "cell_type": "markdown",
   "metadata": {
    "id": "f2GRrgeB6Htx"
   },
   "source": [
    "## Problem Statement"
   ]
  },
  {
   "cell_type": "markdown",
   "metadata": {
    "id": "hv2bWFDY6Hty"
   },
   "source": [
    "Given the data available per country to guage the Hapiness Index, our aim is to:\n",
    "    \n",
    "1. **Part A** - Analyze and understand which factors affect the Happiness Index Score of countries\n",
    "2. **Part B** - Analyze and understand the relationship between Terror Attacks and Happiness Index\n",
    "3. **Part C** - Create a Model to predict the Happiness Index of a Country\n",
    "4. **Part D** - To see how much Health contributes to the Happiness Index? With the current pandemic at hand, predicting COVID-19 Cases in the coming days for countries.\n",
    "5. **Part E** - Creating a Dashbord for viewing COVID-19 Predictions"
   ]
  },
  {
   "cell_type": "code",
   "execution_count": null,
   "metadata": {},
   "outputs": [],
   "source": [
    "#hide\n",
    "#install the necessary packages\n",
    "!pip install notebook ipywidgets\n",
    "!pip install altair-viewer\n",
    "\n",
    "# Jupyter widgets extension\n",
    "!jupyter labextension install @jupyter-widgets/jupyterlab-manager --no-build\n",
    "\n",
    "# jupyterlab renderer support\n",
    "!jupyter labextension install jupyterlab-plotly@4.9.0 --no-build\n",
    "# FigureWidget support\n",
    "!jupyter labextension install plotlywidget --no-build\n",
    "\n",
    "# Build extensions (must be done to activate extensions since --no-build is used above)\n",
    "!jupyter lab build\n",
    "\n",
    "# Unset NODE_OPTIONS environment variable\n",
    "# (OS X/Linux)"
   ]
  },
  {
   "cell_type": "code",
   "execution_count": null,
   "metadata": {
    "id": "M_7-yKBt6Ht6"
   },
   "outputs": [],
   "source": [
    "#hide\n",
    "#!pip install bubbly\n",
    "#!conda install libpython m2w64-toolchain -c msys2\n",
    "#!pip install pystan\n",
    "#!pip install fbprophet"
   ]
  },
  {
   "cell_type": "code",
   "execution_count": null,
   "metadata": {
    "colab": {
     "base_uri": "https://localhost:8080/",
     "height": 17
    },
    "id": "GxlUX5X26Ht8",
    "outputId": "c5cd4823-00fe-4109-f661-a3eea08e8907"
   },
   "outputs": [],
   "source": [
    "#hide\n",
    "# importing the necessary libraries\n",
    "import numpy as np\n",
    "import pandas as pd\n",
    "import glob\n",
    "from IPython.display import HTML\n",
    "from sklearn.preprocessing import MinMaxScaler, PolynomialFeatures, LabelEncoder\n",
    "from sklearn.model_selection import train_test_split\n",
    "from sklearn.linear_model import Ridge, Lasso, LinearRegression\n",
    "from sklearn.model_selection import cross_validate\n",
    "from sklearn.metrics import mean_squared_error, r2_score\n",
    "from sklearn.neighbors import KNeighborsRegressor\n",
    "from sklearn.neural_network import MLPRegressor\n",
    "import json\n",
    "import altair as alt\n",
    "from  altair.vega import v5\n",
    "import matplotlib.pyplot as plt\n",
    "import seaborn as sns\n",
    "import plotly.offline as py\n",
    "from plotly.offline import init_notebook_mode, iplot\n",
    "import plotly.graph_objs as go\n",
    "init_notebook_mode(connected = True)\n",
    "from bubbly.bubbly import bubbleplot\n",
    "import warnings\n",
    "warnings.filterwarnings(\"ignore\")\n",
    "import plotly.express as px\n",
    "import plotly.graph_objects as go\n",
    "import matplotlib.pyplot as plt\n",
    "import seaborn as sns\n",
    "import plotly.express as px\n",
    "pd.set_option('display.float_format', lambda x: '%.2f' % x)\n",
    "import warnings\n",
    "warnings.filterwarnings(\"ignore\")\n",
    "from sklearn.feature_selection import SelectKBest\n",
    "from sklearn.feature_selection import f_classif\n",
    "\n",
    "from sklearn.metrics import roc_auc_score\n",
    "from sklearn.metrics import roc_curve\n",
    "from fbprophet import Prophet\n",
    "from fbprophet.plot import plot_plotly, plot_components_plotly\n",
    "from fbprophet.diagnostics import cross_validation\n",
    "from fbprophet.diagnostics import performance_metrics\n",
    "from IPython.display import HTML\n"
   ]
  },
  {
   "cell_type": "code",
   "execution_count": null,
   "metadata": {
    "id": "TqrOTxYt6Ht_"
   },
   "outputs": [],
   "source": [
    "#hide\n",
    "## Ground work\n",
    "#loading individual dataset reports for the years from 2015-2020\n",
    "happiness_df_2015 = pd.read_csv(\"data/2015_report.csv\")\n",
    "happiness_df_2016 = pd.read_csv(\"data/2016_report.csv\")\n",
    "happiness_df_2017 = pd.read_csv(\"data/2017_report.csv\")\n",
    "happiness_df_2018 = pd.read_csv(\"data/2018_report.csv\")\n",
    "happiness_df_2019 = pd.read_csv(\"data/2019_report.csv\")\n",
    "happiness_df_2020 = pd.read_csv(\"data/2020_report.csv\")\n",
    "\n",
    "#adding column in each dataset to represent year\n",
    "happiness_df_2015['year'] = 2015\n",
    "happiness_df_2016['year'] = 2016\n",
    "happiness_df_2017['year'] = 2017\n",
    "happiness_df_2018['year'] = 2018\n",
    "happiness_df_2019['year'] = 2019\n",
    "happiness_df_2020['year'] = 2020"
   ]
  },
  {
   "cell_type": "code",
   "execution_count": null,
   "metadata": {
    "id": "r1fZimBU6HuB"
   },
   "outputs": [],
   "source": [
    "#hide\n",
    "df = pd.DataFrame()\n",
    "\n",
    "#merging all dataframes into one dataframe\n",
    "df = df.append(happiness_df_2015)\n",
    "df = df.append(happiness_df_2016)\n",
    "df = df.append(happiness_df_2017)\n",
    "df = df.append(happiness_df_2018)\n",
    "df = df.append(happiness_df_2019)\n",
    "df = df.append(happiness_df_2020)\n",
    "\n",
    "#replacing na with 0\n",
    "df = df.fillna(0)\n",
    "targets = ['Low', 'Low-Mid', 'Top-Mid', 'Top']\n",
    "df[\"target\"] = pd.qcut(df['happiness_score'], len(targets), labels=targets)\n",
    "df[\"target_n\"] = pd.qcut(df['happiness_score'], len(targets), labels=range(len(targets)))\n",
    "dff = df.drop(['country','continent','target','target_n','year'], axis = 1)"
   ]
  },
  {
   "cell_type": "markdown",
   "metadata": {
    "id": "-7Kvo3cE6HuF"
   },
   "source": [
    "## Part A\n",
    "\n",
    "To Analyze and understand which factors affect the Happiness Index Score of countries"
   ]
  },
  {
   "cell_type": "markdown",
   "metadata": {
    "id": "2PfL_ysS6HuF"
   },
   "source": [
    "## Explaratory Data Analysis\n",
    "\n",
    "Our objective here is to look through the datasets and perform some basic analysis to understand and guage insights. "
   ]
  },
  {
   "cell_type": "markdown",
   "metadata": {
    "id": "dBMespAw6HuG"
   },
   "source": [
    "### A look into Correlation"
   ]
  },
  {
   "cell_type": "markdown",
   "metadata": {
    "id": "tjYibUSQ6HuG"
   },
   "source": [
    "*The Spearman's Rank Correlation Coefficient is used to discover the strength of a link between two sets of data.*\n",
    "\n",
    "+ If you have two numeric variables that are not linearly related, or if one or both of your variables are ordinal variables, you can still measure the strength and direction of their relationship using a non-parametric correlation statistic. \n",
    "\n",
    "+ The most common of these is the Spearman rank correlation coefficient, ρ, which considers the ranks of the values for the two variables.Spearman’s correlation is equivalent to calculating the Pearson correlation coefficient on the ranked data. So ρ will always be a value between -1 and 1. \n",
    "\n",
    "+ The further away ρ is from zero, the stronger the relationship between the two variables. The sign of ρ corresponds to the direction of the relationship. If it is positive, then as one variable increases, the other tends to increase. If it is negative, then as one variable increases, the other tends to decrease.\n",
    "\n",
    "+ You use Spearman’s correlation if your data have a non-linear relationship (like an exponential relationship) or you have one or more outliers. However, Spearman’s correlation is only appropriate if the relationship between your variables is monotonic, meaning that as one variable increases, the other tends to either increase or decrease (not both)"
   ]
  },
  {
   "cell_type": "code",
   "execution_count": null,
   "metadata": {
    "colab": {
     "base_uri": "https://localhost:8080/",
     "height": 343
    },
    "id": "rVGMXLSK6HuG",
    "outputId": "ac96c6d5-0cad-4123-f01c-8f838b41333a"
   },
   "outputs": [],
   "source": [
    "#hide_input\n",
    "spearman_cormatrix= df.corr(method='spearman')\n",
    "spearman_cormatrix"
   ]
  },
  {
   "cell_type": "code",
   "execution_count": null,
   "metadata": {
    "colab": {
     "base_uri": "https://localhost:8080/",
     "height": 687
    },
    "id": "-NNlMc0J6HuI",
    "outputId": "5fcf97b9-4036-4a9d-822b-c0ce46c8a404"
   },
   "outputs": [],
   "source": [
    "#hide_input\n",
    "plt.figure(figsize=(18,10))\n",
    "ax = sns.heatmap(spearman_cormatrix, vmin=-1, vmax=1, \n",
    "            center=0, cmap=\"viridis\", annot=True)\n",
    "bottom, top = ax.get_ylim()\n",
    "ax.set_ylim(bottom + 0.5, top - 0.5);\n",
    "plt.title(\"Continuous Matrix of Spearman Correlation\");"
   ]
  },
  {
   "cell_type": "code",
   "execution_count": null,
   "metadata": {
    "colab": {
     "base_uri": "https://localhost:8080/",
     "height": 687
    },
    "id": "0rvtO_lI6HuK",
    "outputId": "c6e83739-395b-46be-aef4-0bb403f3d5a6"
   },
   "outputs": [],
   "source": [
    "#hide_input\n",
    "plt.figure(figsize=(18,10))\n",
    "ax = sns.heatmap(spearman_cormatrix, vmin=-.25, vmax=1, center=0, cmap=\"Paired\", annot=True)\n",
    "bottom, top = ax.get_ylim()\n",
    "ax.set_ylim(bottom + 0.5, top - 0.5);\n",
    "plt.title(\"Binned Matrix of Spearman Correlation\");"
   ]
  },
  {
   "cell_type": "markdown",
   "metadata": {
    "id": "z_AZ-jZV6HuM"
   },
   "source": [
    "**Inference**: From the above matrixes, it seems like *Health*, *GDP Per Capita* and *freedom* are the top 3 factors that correlate with happiness index."
   ]
  },
  {
   "cell_type": "markdown",
   "metadata": {
    "id": "td5t23Iq6HuM"
   },
   "source": [
    "#### Univariate Analysis\n",
    "\n",
    "This type of analysis consists of use of single variable. The analysis of univariate data is thus the simplest form of analysis since the information deals with only one quantity that changes. It does not deal with causes or relationships and the main purpose of the analysis is to describe the data and find patterns that exist within it. "
   ]
  },
  {
   "cell_type": "code",
   "execution_count": null,
   "metadata": {
    "colab": {
     "base_uri": "https://localhost:8080/",
     "height": 663
    },
    "id": "mtnOQCJe6HuN",
    "outputId": "e1797d56-0dbb-49e3-aec8-28ac10229776"
   },
   "outputs": [],
   "source": [
    "#hide_input\n",
    "#univariate analysis\n",
    "numerics = ['happiness_score', 'gdp_per_capita', 'health', 'freedom', 'generosity',\n",
    "       'government_trust']\n",
    "color = ['r','blue','g','y','dodgerblue','orange']\n",
    "\n",
    "plt.figure(figsize = (18,10))\n",
    "plt.suptitle(\"Univariate Analysis of all Factors\")\n",
    "for i in numerics:\n",
    "    plt.subplot(2,3,numerics.index(i)+1)\n",
    "    plt.scatter(np.arange(df.shape[0]),df[i], color = color[numerics.index(i)])\n",
    "    plt.title(i)\n",
    "plt.show()"
   ]
  },
  {
   "cell_type": "markdown",
   "metadata": {
    "id": "_48jj-1c6HuP"
   },
   "source": [
    "#### Bivariate Analysis\n",
    "\n",
    "This type of analysis involves two different variables. The analysis of this type of data deals with causes and relationships and the analysis is done to find out the relationship among the two variables"
   ]
  },
  {
   "cell_type": "code",
   "execution_count": null,
   "metadata": {
    "colab": {
     "base_uri": "https://localhost:8080/",
     "height": 1000
    },
    "id": "RfS66O016HuP",
    "outputId": "22e716fa-7904-4e02-b697-157d4b3bae37"
   },
   "outputs": [],
   "source": [
    "#hide_input\n",
    "#Bivariate Analysis\n",
    "#plt.figure(figsize=(18,20));\n",
    "sns.set_context(\"paper\", rc={\"axes.labelsize\":15})\n",
    "sns.pairplot(df);"
   ]
  },
  {
   "cell_type": "markdown",
   "metadata": {
    "id": "JH0Jl-HV6HuR"
   },
   "source": [
    "**Inference**:\n",
    "\n",
    "From the above plot, we can infer that there seems to be a: <br/>\n",
    "**Linear Relationship:** happiness_score v/s gdp_per_capita, happiness_score v/s health, happiness_score v/s freedom <br/>\n",
    "**Non-Linear Relationship:** happiness_score v/s gerosity, happiness_score v/s government_trust"
   ]
  },
  {
   "cell_type": "markdown",
   "metadata": {
    "id": "8eSIOJ6i6HuR"
   },
   "source": [
    "### Performing ANOVA test between predictors and response variable to guage how significantly it affects the scoring\n",
    "\n",
    "Analysis of Variance is a statistical method, used to check the means of two or more groups that are significantly different from each other. It assumes Hypothesis as\n",
    "H0: Means of all groups are equal.\n",
    "H1: At least one mean of the groups are different.\n",
    "    \n",
    "+ If the distributions overlap or close, the grand mean will be similar to individual means whereas if distributions are far, the grand mean and individual means differ by larger distance.\n",
    "+ It refers to variations between the groups as the values in each group are different. \n",
    "+ So in ANOVA, we will compare Between-group variability to Within-group variability.\n",
    "+ ANOVA uses F-test check if there is any significant difference between the groups. \n",
    "+ If there is no significant difference between the groups that all variances are equal, the result of ANOVA’s F-ratio will be close to 1."
   ]
  },
  {
   "cell_type": "code",
   "execution_count": null,
   "metadata": {
    "colab": {
     "base_uri": "https://localhost:8080/",
     "height": 50
    },
    "id": "pA7MAcT26HuS",
    "outputId": "831c9698-db71-4091-cfd9-15eed4b174b9"
   },
   "outputs": [],
   "source": [
    "#hide_input\n",
    "#performing ANOVA test\n",
    "k_best = SelectKBest(f_classif,k=\"all\")\n",
    "k_best.fit_transform(dff.drop('happiness_score', axis=1), dff['happiness_score'])\n",
    "p_values = pd.DataFrame({'column': dff.drop('happiness_score', axis=1).columns, 'p_value': k_best.pvalues_}).sort_values('p_value')\n",
    "best_predictors = p_values[p_values['p_value'] < .05].iloc[:10,:]['column'].to_list()\n",
    "print(\"The best predictors of Happiness Index are: \")\n",
    "print(str(best_predictors))"
   ]
  },
  {
   "cell_type": "markdown",
   "metadata": {
    "id": "DQLQmUfp6HuU"
   },
   "source": [
    "Two of the aspects coming out of ANOVA test belong to our correlation inference i.e GDP per capita and health. Apart from that, it seems like government trust and family also play quite a significant role in realizing the happiness score."
   ]
  },
  {
   "cell_type": "markdown",
   "metadata": {
    "id": "umdu8sS-6HuU"
   },
   "source": [
    "### Looking at all countries and their ranks in Happiness Index Score"
   ]
  },
  {
   "cell_type": "code",
   "execution_count": null,
   "metadata": {
    "colab": {
     "base_uri": "https://localhost:8080/",
     "height": 817
    },
    "id": "iqlIcyrq6HuU",
    "outputId": "f6569ca9-3267-4f32-bb0d-39c4c8d9ab76"
   },
   "outputs": [],
   "source": [
    "#hide_input\n",
    "fig = px.bar(df, x='country', y='happiness_score',color='happiness_score',height=800)\n",
    "fig.update_layout(title='Arrangement of countries in descending order of Happiness Score',titlefont_size=20)\n",
    "\n",
    "display(HTML(fig.to_html(include_plotlyjs='cdn')));"
   ]
  },
  {
   "cell_type": "markdown",
   "metadata": {
    "id": "NYOEN-Z06HuW"
   },
   "source": [
    "**Inference**: Clearly Norwary seems to the top country scoring in Happiness Index. It is not surprising since European Countries have better living conditions. "
   ]
  },
  {
   "cell_type": "code",
   "execution_count": null,
   "metadata": {
    "colab": {
     "base_uri": "https://localhost:8080/",
     "height": 542
    },
    "id": "nNrkaP9Q6HuW",
    "outputId": "a9eacad1-4618-4476-9735-55bd847b4647"
   },
   "outputs": [],
   "source": [
    "#hide_input\n",
    "fig = go.Figure()\n",
    "x0 = df['gdp_per_capita'].values\n",
    "x1 = df['health'].values\n",
    "x2 = df['government_trust'].values\n",
    "x3 = df['dystopia_residual'].values\n",
    "\n",
    "fig.add_trace(go.Histogram(x=x0))\n",
    "fig.add_trace(go.Histogram(x=x1))\n",
    "fig.add_trace(go.Histogram(x=x2))\n",
    "fig.add_trace(go.Histogram(x=x3))\n",
    "\n",
    "# Overlay both histograms\n",
    "fig.update_layout(barmode='overlay', title=\"Distribution of GDP, Health, Government, Dystopia\")\n",
    "# Reduce opacity to see both histograms\n",
    "fig.update_traces(opacity=1)\n",
    "display(HTML(fig.to_html(include_plotlyjs='cdn')));\n"
   ]
  },
  {
   "cell_type": "markdown",
   "metadata": {
    "id": "Czy4RyMn6HuY"
   },
   "source": [
    "### Happiness with regards to Generosity and Economy"
   ]
  },
  {
   "cell_type": "code",
   "execution_count": null,
   "metadata": {
    "colab": {
     "base_uri": "https://localhost:8080/",
     "height": 667
    },
    "id": "OUStap4k6HuZ",
    "outputId": "24646fa8-391a-44c7-d132-2ed9aabb2e7a"
   },
   "outputs": [],
   "source": [
    "#hide_input\n",
    "figure = bubbleplot(dataset = df, x_column = 'happiness_score', y_column = 'generosity', \n",
    "    bubble_column = 'country', size_column = 'gdp_per_capita', color_column = 'continent', \n",
    "    x_title = \"Happiness Score\", y_title = \"Generosity\", title = 'Happiness vs Generosity vs Economy',\n",
    "    x_logscale = False, scale_bubble = 1, height = 650)\n",
    "\n",
    "\n",
    "fig = go.Figure(figure)\n",
    "display(HTML(fig.to_html(include_plotlyjs='cdn')));"
   ]
  },
  {
   "cell_type": "markdown",
   "metadata": {
    "id": "uxR2guL86Hub"
   },
   "source": [
    "**Inference**: The farther right side bubbless are mostly contries in the European Continents. Clearly they have better GDP Per capita. Surprisingly Europeans countries score average on Generosity(Asian countries have highest generosity) but have the most Happiness Score rankings. "
   ]
  },
  {
   "cell_type": "markdown",
   "metadata": {
    "id": "ryEWkDpS6Hub"
   },
   "source": [
    "### Happiness with regards to Health and Economy"
   ]
  },
  {
   "cell_type": "code",
   "execution_count": null,
   "metadata": {
    "colab": {
     "base_uri": "https://localhost:8080/",
     "height": 667
    },
    "id": "rQlcvVao6Hub",
    "outputId": "133fba61-eddf-40dc-ab70-ea7e5ef6d5ec"
   },
   "outputs": [],
   "source": [
    "#hide_input\n",
    "#hide_input\n",
    "figure = bubbleplot(dataset = df, x_column = 'happiness_score', y_column = 'health', \n",
    "    bubble_column = 'country', size_column = 'gdp_per_capita', color_column = 'continent', \n",
    "    x_title = \"Happiness Score\", y_title = \"Health\", title = 'Happiness vs Health vs Economy',\n",
    "    x_logscale = False, scale_bubble = 1, height = 650)\n",
    "\n",
    "\n",
    "fig = go.Figure(figure)\n",
    "display(HTML(fig.to_html(include_plotlyjs='cdn')));"
   ]
  },
  {
   "cell_type": "markdown",
   "metadata": {
    "id": "N8YufIbR6Hud"
   },
   "source": [
    "**Inference**: The farther right side bubbles are mostly contries in the European Continents. Clearly they have better Health score as well since they are present on top. The lowest health scores mostly consists of African and Asian countries."
   ]
  },
  {
   "cell_type": "markdown",
   "metadata": {
    "id": "6vnhCjPG6Hue"
   },
   "source": [
    "### Happiness with regards to Family and Economy"
   ]
  },
  {
   "cell_type": "code",
   "execution_count": null,
   "metadata": {
    "colab": {
     "base_uri": "https://localhost:8080/",
     "height": 667
    },
    "id": "y5_gzkn46Hue",
    "outputId": "6b9e3fce-bfb4-4315-cbf7-668076af66c7"
   },
   "outputs": [],
   "source": [
    "#hide_input\n",
    "figure = bubbleplot(dataset = df, x_column = 'happiness_score', y_column = 'family', \n",
    "    bubble_column = 'country', size_column = 'gdp_per_capita', color_column = 'continent', \n",
    "    x_title = \"Happiness Score\", y_title = \"Family\", title = 'Happiness vs Family vs Economy',\n",
    "    x_logscale = False, scale_bubble = 1, height = 650)\n",
    "\n",
    "\n",
    "fig = go.Figure(figure)\n",
    "display(HTML(fig.to_html(include_plotlyjs='cdn')));"
   ]
  },
  {
   "cell_type": "markdown",
   "metadata": {
    "id": "zpARCHl_6Hug"
   },
   "source": [
    "**Inference:** \n",
    "\n",
    "The farther right side bubbless are mostly contries in the European Continents. Clearly they have better Family ratings. The most unsatisfied family rankings is actually mixture of mostly African, South American,Asian and a few European countries & North American countries."
   ]
  },
  {
   "cell_type": "markdown",
   "metadata": {
    "id": "A7w5uW146Hug"
   },
   "source": [
    "### Happiness with regards to Govt Trust and Economy"
   ]
  },
  {
   "cell_type": "code",
   "execution_count": null,
   "metadata": {
    "colab": {
     "base_uri": "https://localhost:8080/",
     "height": 667
    },
    "id": "wYWZUq8i6Hug",
    "outputId": "ca68705a-404f-4af3-f5dc-fb2b00fa4f1b"
   },
   "outputs": [],
   "source": [
    "#hide_input\n",
    "figure = bubbleplot(dataset = df, x_column = 'happiness_score', y_column = 'government_trust', \n",
    "    bubble_column = 'country', size_column = 'gdp_per_capita', color_column = 'continent', \n",
    "    x_title = \"Happiness Score\", y_title = \"Government Trust\", title = 'Happiness vs Government Trust vs Economy',\n",
    "    x_logscale = False, scale_bubble = 1, height = 650)\n",
    "\n",
    "\n",
    "fig = go.Figure(figure)\n",
    "display(HTML(fig.to_html(include_plotlyjs='cdn')));"
   ]
  },
  {
   "cell_type": "markdown",
   "metadata": {
    "id": "mn8vNLxf6Hui"
   },
   "source": [
    "**Inference:** \n",
    "\n",
    "Most countries rank low on government trust giving us insights into how most of the world population doesn't necessarily trust it's governments despite the ovearching push of democracy to be adoptee. High government trust countries are Rwanda and obvious countries of Sinagpore, New Zealand, Finland."
   ]
  },
  {
   "cell_type": "markdown",
   "metadata": {
    "id": "PivMEsHv6Huj"
   },
   "source": [
    "### World-wide View of Countries with regards to Generosity"
   ]
  },
  {
   "cell_type": "code",
   "execution_count": null,
   "metadata": {
    "colab": {
     "base_uri": "https://localhost:8080/",
     "height": 542
    },
    "id": "MKXDa-Cp6Huk",
    "outputId": "7b8b860c-75b1-4562-fbef-1e34776aa812"
   },
   "outputs": [],
   "source": [
    "#hide_input\n",
    "#plotting\n",
    "trace1 = [go.Choropleth(\n",
    "               colorscale = 'Portland',\n",
    "               locationmode = 'country names',\n",
    "               locations = df['country'],\n",
    "               text = df['country'], \n",
    "               z =df['generosity'],\n",
    "               )]\n",
    "\n",
    "layout = dict(title = 'Overview of World Generosity',\n",
    "                  geo = dict(\n",
    "                      showframe = True,\n",
    "                      showocean = True,\n",
    "                      showlakes = True,\n",
    "                      showcoastlines = True,\n",
    "                      projection = dict(\n",
    "                          type = 'natural earth'       )))\n",
    "\n",
    "\n",
    "fig = go.Figure(data = trace1, layout = layout)\n",
    "display(HTML(fig.to_html(include_plotlyjs='cdn')));"
   ]
  },
  {
   "cell_type": "code",
   "execution_count": null,
   "metadata": {
    "colab": {
     "base_uri": "https://localhost:8080/",
     "height": 542
    },
    "id": "YQRZaAas6Hum",
    "outputId": "18a3e041-545f-4d4f-da5f-8c96c054a455"
   },
   "outputs": [],
   "source": [
    "#hide_input\n",
    "trace1 = [go.Choropleth(\n",
    "               colorscale = 'Cividis',\n",
    "               locationmode = 'country names',\n",
    "               locations = df['country'],\n",
    "               text = df['country'], \n",
    "               z =df['family'],\n",
    "               )]\n",
    "\n",
    "layout = dict(title = 'Overview of World Family Satisfaction',\n",
    "                  geo = dict(\n",
    "                      showframe = True,\n",
    "                      showocean = True,\n",
    "                      showlakes = True,\n",
    "                      showcoastlines = True,\n",
    "                      projection = dict(\n",
    "                          type = 'natural earth'       )))\n",
    "\n",
    "\n",
    "fig = go.Figure(data = trace1, layout = layout)\n",
    "display(HTML(fig.to_html(include_plotlyjs='cdn')));"
   ]
  },
  {
   "cell_type": "code",
   "execution_count": null,
   "metadata": {
    "colab": {
     "base_uri": "https://localhost:8080/",
     "height": 542
    },
    "id": "0FFcmFCG6Huo",
    "outputId": "51ee8db3-8d3d-4147-dc25-72033fea4989"
   },
   "outputs": [],
   "source": [
    "#hide_input\n",
    "trace1 = [go.Choropleth(\n",
    "               colorscale = 'tropic',\n",
    "               locationmode = 'country names',\n",
    "               locations = df['country'],\n",
    "               text = df['country'], \n",
    "               z =df['government_trust'],\n",
    "               )]\n",
    "\n",
    "layout = dict(title = 'Overview of World Government Trust',\n",
    "                  geo = dict(\n",
    "                      showframe = True,\n",
    "                      showocean = True,\n",
    "                      showlakes = True,\n",
    "                      showcoastlines = True,\n",
    "                      projection = dict(\n",
    "                          type = 'natural earth'       )))\n",
    "\n",
    "\n",
    "fig = go.Figure(data = trace1, layout = layout)\n",
    "display(HTML(fig.to_html(include_plotlyjs='cdn')));"
   ]
  },
  {
   "cell_type": "code",
   "execution_count": null,
   "metadata": {
    "colab": {
     "base_uri": "https://localhost:8080/",
     "height": 542
    },
    "id": "350hhR8_6Hup",
    "outputId": "8c676e7c-2007-4c5d-d641-f16baff33288"
   },
   "outputs": [],
   "source": [
    "#hide_input\n",
    "trace1 = [go.Choropleth(\n",
    "               colorscale = 'Portland',\n",
    "               locationmode = 'country names',\n",
    "               locations = df['country'],\n",
    "               text = df['country'], \n",
    "               z =df['gdp_per_capita'],\n",
    "               )]\n",
    "\n",
    "layout = dict(title = 'Overview of world Economy',\n",
    "                  geo = dict(\n",
    "                      showframe = True,\n",
    "                      showocean = True,\n",
    "                      showlakes = True,\n",
    "                      showcoastlines = True,\n",
    "                      projection = dict(\n",
    "                          type = 'natural earth'       )))\n",
    "\n",
    "\n",
    "fig = go.Figure(data = trace1, layout = layout)\n",
    "display(HTML(fig.to_html(include_plotlyjs='cdn')));"
   ]
  },
  {
   "cell_type": "code",
   "execution_count": null,
   "metadata": {
    "colab": {
     "base_uri": "https://localhost:8080/",
     "height": 542
    },
    "id": "yac7XQgK6Hur",
    "outputId": "df6e1121-c991-4b20-aaae-0378c0c88847"
   },
   "outputs": [],
   "source": [
    "#hide_input\n",
    "trace1 = [go.Choropleth(\n",
    "               colorscale = 'rainbow',\n",
    "               locationmode = 'country names',\n",
    "               locations = df['country'],\n",
    "               text = df['country'], \n",
    "               z =df['happiness_score'],\n",
    "               )]\n",
    "\n",
    "layout = dict(title = 'Overview of World Happiness Score',\n",
    "                  geo = dict(\n",
    "                      showframe = True,\n",
    "                      showocean = True,\n",
    "                      showlakes = True,\n",
    "                      showcoastlines = True,\n",
    "                      projection = dict(\n",
    "                          type = 'natural earth'       )))\n",
    "\n",
    "\n",
    "fig = go.Figure(data = trace1, layout = layout)\n",
    "display(HTML(fig.to_html(include_plotlyjs='cdn')));"
   ]
  },
  {
   "cell_type": "markdown",
   "metadata": {
    "id": "Kd_ZQHCt6Hut"
   },
   "source": [
    "### Trend of Happiness Over Time"
   ]
  },
  {
   "cell_type": "code",
   "execution_count": null,
   "metadata": {
    "colab": {
     "base_uri": "https://localhost:8080/",
     "height": 542
    },
    "id": "OYZ8801q6Hut",
    "outputId": "acdf2900-39ce-4d8f-9c92-86b748357658"
   },
   "outputs": [],
   "source": [
    "#hide_input\n",
    "import plotly.express as px\n",
    "fig=px.line(df,x='year',y='happiness_score',color='country',template=\"ggplot2\")\n",
    "display(HTML(fig.to_html(include_plotlyjs='cdn')));"
   ]
  },
  {
   "cell_type": "code",
   "execution_count": null,
   "metadata": {
    "colab": {
     "base_uri": "https://localhost:8080/",
     "height": 667
    },
    "id": "DG0HwurG6Huv",
    "outputId": "aac184fa-6f9b-4fb0-d87a-471629d2d27e"
   },
   "outputs": [],
   "source": [
    "#hide_input\n",
    "fig = px.pie(df, values='gdp_per_capita', names='continent', title='Continent Wise Contribution to Worl Economy',height=650)\n",
    "display(HTML(fig.to_html(include_plotlyjs='cdn')));"
   ]
  },
  {
   "cell_type": "markdown",
   "metadata": {
    "id": "LUZtWQoL6Huw"
   },
   "source": [
    "From the chart we can notice that the continent of Europe has a good score of GDP per capita, compared to others. Australian countries contribute the least to global GDP."
   ]
  },
  {
   "cell_type": "markdown",
   "metadata": {
    "id": "6tsG9Kg26Hux"
   },
   "source": [
    "# Part B \n",
    "\n",
    "Analyze and understand the relationship between Terror Attacks and Happiness Index\n",
    "\n",
    "### Thoughts/ Motive\n",
    "\n",
    "One of the things that intrigued us terrorism across the world. With wars and conflicts happening on a day to day basis, we really wanted to understand to what extent terrorism plays a role in happiness index. For this we combined two datasets - the Happiness Datasets and the World Terrorism dataset from Global Terrorism Database(GTD).\n",
    "\n",
    "In our datasets, we have only took the count of terror attacks and not other information such as text based data surrounding the context of what happpened, names of the weapons used and so on since that would delve into NLP. Our future work in scope is using NLP to also analyse the datasets in order to better guage the relationship between happiness and terrorism. "
   ]
  },
  {
   "cell_type": "markdown",
   "metadata": {
    "id": "DZA5ihl76Hux"
   },
   "source": [
    "# Processing the Datasets\n",
    "\n",
    "Now that we have seen EDA on Happiness Index, we were wondering what about terror attacks? Clearly the factors mentioned above are not sufficient enough to explain true happiness. So we decided to see how terror attacks combine with happiness index and to answer the question if there is a correlation present. "
   ]
  },
  {
   "cell_type": "markdown",
   "metadata": {
    "id": "CXKo1V3r6Hux"
   },
   "source": [
    "### Below Cells take time to execute due to large dataset"
   ]
  },
  {
   "cell_type": "markdown",
   "metadata": {
    "id": "ysMJ5UJu6Huy"
   },
   "source": [
    "### Terrorism Database"
   ]
  },
  {
   "cell_type": "code",
   "execution_count": null,
   "metadata": {
    "id": "x94p1n126Huy"
   },
   "outputs": [],
   "source": [
    "#hide\n",
    "# Loading the Global Terrorism Databse\n",
    "df = pd.read_excel(\"data/globalterrorismdb_0919dist.xlsx\")"
   ]
  },
  {
   "cell_type": "code",
   "execution_count": null,
   "metadata": {
    "colab": {
     "base_uri": "https://localhost:8080/",
     "height": 350
    },
    "id": "y2hIGEjB6Hu0",
    "outputId": "8260184f-6723-40a1-a1b8-ef4b3d1d9942"
   },
   "outputs": [],
   "source": [
    "#hide_input\n",
    "# Taking a look at the data\n",
    "pd.set_option('display.max_columns', None)\n",
    "df.head()"
   ]
  },
  {
   "cell_type": "code",
   "execution_count": null,
   "metadata": {
    "id": "aN2BrzJZ6Hu4"
   },
   "outputs": [],
   "source": [
    "#hide\n",
    "# taking just the years of which we have terrorism data\n",
    "df_select = df.loc[(df[\"iyear\"]==2015) | (df[\"iyear\"]==2016) | (df[\"iyear\"]==2017) | (df[\"iyear\"]==2018)]"
   ]
  },
  {
   "cell_type": "code",
   "execution_count": null,
   "metadata": {
    "id": "2o4Rvw5X6Hu7"
   },
   "outputs": [],
   "source": [
    "#hide\n",
    "# getting the number of terror_attacks countrywise sorted by year\n",
    "temp = df_select.pivot_table(index='country_txt', \n",
    "                     columns='iyear', \n",
    "                     values='attacktype1',\n",
    "                     fill_value=0, \n",
    "                     aggfunc='count').unstack().to_frame(name=\"terror_attacks\").reset_index()"
   ]
  },
  {
   "cell_type": "markdown",
   "metadata": {
    "id": "GdbkykCq6Hu8"
   },
   "source": [
    "### Happiness Index Database"
   ]
  },
  {
   "cell_type": "code",
   "execution_count": null,
   "metadata": {
    "colab": {
     "base_uri": "https://localhost:8080/",
     "height": 402
    },
    "id": "Ya7-Bfuz6Hu9",
    "outputId": "95c9e76c-3ab2-4a01-b61a-f3dd45c69e6a"
   },
   "outputs": [],
   "source": [
    "#hide_input\n",
    "# Combining all the happiness index dataset\n",
    "import re\n",
    "all_files = glob.glob(\"data/*_report.csv\")\n",
    "li = []\n",
    "\n",
    "for filename in all_files:\n",
    "    cdf = pd.read_csv(filename, index_col=None, header=0)\n",
    "    cdf[\"Year\"] = [i for i in [int(re.findall(r'\\d{4}',filename)[0])] for _ in range(len(cdf))]\n",
    "    cdf.replace({\"Congo (Brazzaville)\":\"Democratic Republic of the Congo\",\"Congo (Kinshasa)\":\"Republic of Congo\"}, inplace=True)\n",
    "    cdf.sort_values(\"country\", inplace=True)\n",
    "    li.append(cdf)\n",
    "frame = pd.concat(li, axis=0, ignore_index=True)\n",
    "frame.head()"
   ]
  },
  {
   "cell_type": "code",
   "execution_count": null,
   "metadata": {
    "id": "4yG36yKC6Hu-"
   },
   "outputs": [],
   "source": [
    "#hide\n",
    "frame.drop([\"family\", \"dystopia_residual\", \"social_support\", \"continent\"], axis=1, inplace=True)"
   ]
  },
  {
   "cell_type": "code",
   "execution_count": null,
   "metadata": {
    "id": "TFWWvU7d6HvG"
   },
   "outputs": [],
   "source": [
    "#hide\n",
    "enc = LabelEncoder()\n",
    "enc.fit(frame.country)\n",
    "frame[\"country_id\"] = enc.transform(frame.country)\n",
    "\n",
    "# Combining the datasets\n",
    "final_df = pd.merge(frame, temp, left_on=[\"Year\", \"country\"], right_on=[\"iyear\", \"country_txt\"], how=\"left\")\n",
    "\n",
    "final_df = final_df.dropna(axis=0, how='any')\n",
    "final_df.drop([\"country_txt\", \"iyear\"], axis=1, inplace=True)\n",
    "\n",
    "#final_df.to_csv(\"data/final_dataset.csv\")"
   ]
  },
  {
   "cell_type": "markdown",
   "metadata": {
    "id": "e-aRYke06HvI"
   },
   "source": [
    "# Exploratory Data Analysis on Combines Dataset with Terrorism  "
   ]
  },
  {
   "cell_type": "code",
   "execution_count": null,
   "metadata": {
    "id": "lRc55El46HvI",
    "scrolled": true
   },
   "outputs": [],
   "source": [
    "#hide\n",
    "df = pd.read_csv(\"data/final_dataset.csv\").drop([\"Unnamed: 0\", \"country_id\"], axis=1)"
   ]
  },
  {
   "cell_type": "code",
   "execution_count": null,
   "metadata": {
    "colab": {
     "base_uri": "https://localhost:8080/",
     "height": 664
    },
    "id": "QIJRLb906HvK",
    "outputId": "5a20e891-ad39-4467-874a-e11c3ae9d119"
   },
   "outputs": [],
   "source": [
    "#hide_input\n",
    "#univariate analysis\n",
    "numerics = ['happiness_score', 'gdp_per_capita', 'health', 'freedom', 'generosity',\n",
    "       'government_trust', 'terror_attacks']\n",
    "\n",
    "color = ['r','blue','g','y','dodgerblue','orange','pink']\n",
    "\n",
    "plt.figure(figsize = (18,10))\n",
    "plt.suptitle(\"Univariate Analysis of all Factors\")\n",
    "for i in numerics:\n",
    "    plt.subplot(3,3,numerics.index(i)+1)\n",
    "    plt.scatter(np.arange(df.shape[0]),df[i], color = color[numerics.index(i)])\n",
    "    plt.title(i)\n",
    "plt.show()"
   ]
  },
  {
   "cell_type": "markdown",
   "metadata": {
    "id": "eY5ArPmP6HvM"
   },
   "source": [
    "We can see that there are some countries which go through alot of terrorist attacks"
   ]
  },
  {
   "cell_type": "code",
   "execution_count": null,
   "metadata": {
    "colab": {
     "base_uri": "https://localhost:8080/",
     "height": 1000
    },
    "id": "K9WHycMy6HvM",
    "outputId": "389754e6-f2a3-4de1-9749-91fb7899051b"
   },
   "outputs": [],
   "source": [
    "#hide_input\n",
    "#Bivariate Analysis\n",
    "sns.set_context(\"paper\", rc={\"axes.labelsize\":15})\n",
    "sns.pairplot(df);"
   ]
  },
  {
   "cell_type": "markdown",
   "metadata": {
    "id": "UKcubAvZ6HvO"
   },
   "source": [
    "There seems to be a: <br/>\n",
    "**Linear Relationship:** happiness_score v/s gdp_per_capita, happiness_score v/s health, happiness_score v/s freedom <br/>\n",
    "**Non-Linear Relationship:** happiness_score v/s gerosity, happiness_score v/s government_trust"
   ]
  },
  {
   "cell_type": "code",
   "execution_count": null,
   "metadata": {
    "colab": {
     "base_uri": "https://localhost:8080/",
     "height": 595
    },
    "id": "fq9d0ef06HvO",
    "outputId": "01b9d1ad-dfc6-4432-99fe-54bc883e4753"
   },
   "outputs": [],
   "source": [
    "#hide_input\n",
    "#Calculating the correlation matrix\n",
    "corr = df.corr()\n",
    "\n",
    "#Plotting it as a heatmap\n",
    "plt.figure(figsize=(15,10))\n",
    "sns.heatmap( corr, annot = True, cmap = 'coolwarm')\n",
    "bottom, top = plt.ylim()\n",
    "plt.ylim(bottom + 0.5, top - 0.5)\n",
    "plt.show()"
   ]
  },
  {
   "cell_type": "code",
   "execution_count": null,
   "metadata": {
    "colab": {
     "base_uri": "https://localhost:8080/",
     "height": 542
    },
    "id": "u1Rt6abg6HvP",
    "outputId": "fb1db5da-b8ef-4396-e64a-2b43d438f679"
   },
   "outputs": [],
   "source": [
    "#hide_input\n",
    "trace1 = [go.Choropleth(\n",
    "               colorscale = 'blackbody',\n",
    "               locationmode = 'country names',\n",
    "               locations = df['country'],\n",
    "               text = df['country'], \n",
    "               z =df['terror_attacks'],\n",
    "               )]\n",
    "\n",
    "layout = dict(title = 'Overview of Terror Attack Rates',\n",
    "                  geo = dict(\n",
    "                      showframe = True,\n",
    "                      showocean = True,\n",
    "                      showlakes = True,\n",
    "                      showcoastlines = True,\n",
    "                      projection = dict(\n",
    "                          type = 'natural earth'       )))\n",
    "\n",
    "\n",
    "fig = go.Figure(data = trace1, layout = layout)\n",
    "display(HTML(fig.to_html(include_plotlyjs='cdn')));"
   ]
  },
  {
   "cell_type": "markdown",
   "metadata": {
    "id": "_G7KFfBO6HvR"
   },
   "source": [
    "**Inference**:\n",
    "\n",
    "With the data that we have, there doesn't seem to be much correlation between terror attacks and happienss index. We would need more data to come to a singificant conclusion as to how terrorism really affects the happiness index. Perhaps another factors that would allow us to further understand the happiness index would be war conditions. Countries like Syria and Palestine, are in critical war zones which would make their living condtions poor and hence affecting the happiness index. "
   ]
  },
  {
   "cell_type": "markdown",
   "metadata": {
    "id": "2T0xJ7OO6HvR"
   },
   "source": [
    "## Part C \n",
    "\n",
    "To create a Model to Predict Happiness Index"
   ]
  },
  {
   "cell_type": "markdown",
   "metadata": {
    "id": "LdhPOlPo6HvS"
   },
   "source": [
    "# Predicting happiness Index"
   ]
  },
  {
   "cell_type": "code",
   "execution_count": null,
   "metadata": {
    "id": "iGb6W44p6HvS"
   },
   "outputs": [],
   "source": [
    "#hide\n",
    "#Splitting into predictors and response variable\n",
    "X = df.drop([\"happiness_score\",\"country\"], axis=1)\n",
    "y = df[\"happiness_score\"]"
   ]
  },
  {
   "cell_type": "code",
   "execution_count": null,
   "metadata": {
    "id": "cjAzz7p06HvT"
   },
   "outputs": [],
   "source": [
    "#hide\n",
    "# Scaling the predicators to make them between 0 and 1\n",
    "scale = MinMaxScaler()\n",
    "X_scaled = scale.fit_transform(X)\n",
    "X_scaled = pd.DataFrame(X_scaled, columns=X.columns)"
   ]
  },
  {
   "cell_type": "code",
   "execution_count": null,
   "metadata": {
    "id": "X9IZujjD6HvV"
   },
   "outputs": [],
   "source": [
    "#hide\n",
    "# Splitting into test and train sets\n",
    "X_train, X_test, y_train, y_test = train_test_split(X_scaled, y, test_size=0.2, random_state=42)"
   ]
  },
  {
   "cell_type": "code",
   "execution_count": null,
   "metadata": {
    "id": "MH0b39LA6HvX"
   },
   "outputs": [],
   "source": [
    "#hide\n",
    "degrees = range(1, 7)\n",
    "alphas = [1e-4, 1e-3, 1e-2, 0.1, 1, 10, 100, 1000]\n",
    "best_alpha = []\n",
    "for degree in degrees:\n",
    "    training_error, validation_error = [], []\n",
    "    X_poly_train = PolynomialFeatures(degree).fit_transform(X_train)\n",
    "    for alpha in alphas:\n",
    "        lreg = Lasso(alpha=alpha, fit_intercept=False, max_iter=2000)\n",
    "        cv = cross_validate(lreg, X_poly_train, y_train, cv=5, scoring='neg_mean_squared_error', return_train_score=True)\n",
    "        validation_error.append(-np.mean(cv['test_score']))\n",
    "        training_error.append(-np.mean(cv['train_score']))\n",
    "    best_a = alphas[validation_error.index(min(validation_error))]\n",
    "    best_alpha.append([best_a, min(validation_error), min(training_error)])"
   ]
  },
  {
   "cell_type": "code",
   "execution_count": null,
   "metadata": {
    "colab": {
     "base_uri": "https://localhost:8080/",
     "height": 407
    },
    "id": "yu5RJ_Of6HvZ",
    "outputId": "2042ad93-b554-4b2c-ce06-d156c9107300"
   },
   "outputs": [],
   "source": [
    "#hide_input\n",
    "plt.figure(figsize=(18,6))\n",
    "plt.plot(degrees, np.array(best_alpha)[:, 1], label = 'validation_error')\n",
    "plt.plot(degrees, np.array(best_alpha)[:, 2], c='red', label = 'training_error')\n",
    "plt.xlabel(\"Degrees\")\n",
    "plt.ylabel(\"Error\")\n",
    "plt.title(\"Looking at which degree Gave us the Least MSE Score\")\n",
    "plt.legend()\n",
    "plt.show()"
   ]
  },
  {
   "cell_type": "code",
   "execution_count": null,
   "metadata": {
    "colab": {
     "base_uri": "https://localhost:8080/",
     "height": 50
    },
    "id": "EvrCJ9r26Hvb",
    "outputId": "4597f75d-7b40-449c-e5f8-765b90e3c7ad"
   },
   "outputs": [],
   "source": [
    "#hide_input\n",
    "# Training the best model\n",
    "best_degree = degrees[best_alpha.index(min(best_alpha, key=lambda x:x[1]))]\n",
    "best_alphav = min(best_alpha, key=lambda x:x[1])[0]\n",
    "\n",
    "X_poly_train = PolynomialFeatures(best_degree).fit_transform(X_train)\n",
    "X_poly_test = PolynomialFeatures(best_degree).fit_transform(X_test)\n",
    "\n",
    "lreg = Lasso(alpha=best_alphav, fit_intercept=False, max_iter=2000)\n",
    "lreg.fit(X_poly_train, y_train)\n",
    "\n",
    "#Testing the Model\n",
    "y_pred_test = lreg.predict(X_poly_test)\n",
    "mse = mean_squared_error(y_test, y_pred_test)\n",
    "r2 = r2_score(y_test, y_pred_test)\n",
    "\n",
    "\n",
    "#Model performance MEtrics\n",
    "print(\"The MSE value of our model is: \", np.round(mse,2))\n",
    "print(\"The R2 score of our model is : \", np.round(r2,3))"
   ]
  },
  {
   "cell_type": "markdown",
   "metadata": {
    "id": "mRJQ63BW6Hve"
   },
   "source": [
    "We used Lasso Regression with the degree of 6 to perform Polynomial Lasso Regression in order to predict the Happiness Score. \n",
    "\n",
    "**Our MSE value for Lasso Regression is 0.25 and our R2 Score is 0.82 which is pretty satisfactory.**\n",
    "\n",
    "#### Why did we use Lasso Regression?\n",
    "\n",
    "+ We understood that Lasso tends to do well if there are a small number of significant parameters and the others are close to zero (ergo: when only a few predictors actually influence the response). This was our case where our parameters no. was relatively small hence this seemed like the good approach to take. Ridge works well if there are many large parameters of about the same value (ergo: when most predictors impact the response).\n",
    "+ Lasso, or Least Absolute Shrinkage and Selection Operator, is quite similar conceptually to ridge regression. It also adds a penalty for non-zero coefficients, but unlike ridge regression which penalizes sum of squared coefficients (the so-called L2 penalty), lasso penalizes the sum of their absolute values (L1 penalty). As a result, for high values of λ, many coefficients are exactly zeroed under lasso, which is never the case in ridge regression."
   ]
  },
  {
   "cell_type": "code",
   "execution_count": null,
   "metadata": {
    "colab": {
     "base_uri": "https://localhost:8080/",
     "height": 50
    },
    "id": "tnMKD6gN6Hve",
    "outputId": "8031efb4-4f03-4c2e-a37e-11a389e681e9"
   },
   "outputs": [],
   "source": [
    "#hide_input\n",
    "hap_regr = MLPRegressor(hidden_layer_sizes=(100, 50, 25), solver='adam', random_state=1, max_iter=500)\n",
    "hap_regr.fit(X_train, y_train)\n",
    "score = hap_regr.score(X_test, y_test)\n",
    "pred = hap_regr.predict(X_test)\n",
    "mse = mean_squared_error(y_test,pred)\n",
    "print(\"The MSE value of our model is: \", np.round(mse,2))\n",
    "print(\"The R2 score of our model is : \", np.round(score,2))"
   ]
  },
  {
   "cell_type": "markdown",
   "metadata": {
    "id": "fyzx3UzI6Hvf"
   },
   "source": [
    "**What did we do in MLP Regressor?**\n",
    "\n",
    "+ Our choice of multiple number of layers here is to depict non-linearity in the model. Multiple number of layers lead to non-linearity, but excess number of layers may lead to overfitting of the model.\n",
    "+ Experimenting and trying out multiple combinations of layers and neurons, three layers with depicted neurons turned out to be suitable for our model.\n",
    "+ Also, we used the default Activation Function, ReLu because of our model being a Linear Regression Model and ReLu fits the best for this problem."
   ]
  },
  {
   "cell_type": "markdown",
   "metadata": {
    "id": "xNKS-tem6Hvg"
   },
   "source": [
    "**Our MSE value for MLP Regressor is 0.26 and our R2 Score is 0.82 which is pretty much the same as Lasso Regression.**"
   ]
  },
  {
   "cell_type": "markdown",
   "metadata": {
    "id": "UBd9_WLW6Hvg"
   },
   "source": [
    "# Predicting Terrorist attacks\n",
    "\n",
    "We also tried experimenting witht the variables we have from the happiness dataset to see if we can satisfactorily predict no. of terrorist attacks likely to happen. \n",
    "\n",
    "Of course the model does not have the best performance because we understand that there are more factors that affect the outcome. \n",
    "\n",
    "**Our future work here is to get more external factors relating to what sparks terrorim attacks and create model to allow for better risk handling.**"
   ]
  },
  {
   "cell_type": "code",
   "execution_count": null,
   "metadata": {
    "id": "n4RlRjLW6Hvg"
   },
   "outputs": [],
   "source": [
    "#hide_input\n",
    "# Making a terrorism index where countries with terror_attacks 100 or above will have a value 1\n",
    "df[\"terror_attacks\"][df[\"terror_attacks\"]>100]=100\n",
    "\n",
    "# doing non-linear scaling\n",
    "df[\"terror_attacks\"] = np.sqrt(df[\"terror_attacks\"])\n",
    "scaler = MinMaxScaler()\n",
    "df[\"terror_attacks\"] = scaler.fit_transform(df[[\"terror_attacks\"]])"
   ]
  },
  {
   "cell_type": "code",
   "execution_count": null,
   "metadata": {
    "id": "uXxTHpO36Hvh"
   },
   "outputs": [],
   "source": [
    "#hide_input\n",
    "# Assigning predictors and response variables\n",
    "X = df.drop([\"terror_attacks\",'country'], axis=1)\n",
    "y = df[\"terror_attacks\"]"
   ]
  },
  {
   "cell_type": "code",
   "execution_count": null,
   "metadata": {
    "id": "FfR79nto6Hvj"
   },
   "outputs": [],
   "source": [
    "#hide_input\n",
    "# Splitting into test and train sets\n",
    "X_train, X_test, y_train, y_test = train_test_split(X, y, test_size=0.2, random_state=42)"
   ]
  },
  {
   "cell_type": "code",
   "execution_count": null,
   "metadata": {
    "colab": {
     "base_uri": "https://localhost:8080/",
     "height": 34
    },
    "id": "yP3wsjLb6Hvl",
    "outputId": "5b3b59f9-b424-4eb8-98a2-8cbc01a405e3"
   },
   "outputs": [],
   "source": [
    "#hide_input\n",
    "# Using Neural Nets for a best possible prediction\n",
    "regr = MLPRegressor(hidden_layer_sizes=(100, 50, 25), solver='adam', random_state=1, max_iter=500)\n",
    "regr.fit(X_train, y_train)\n",
    "print(\"The R2 score of our model is: \",regr.score(X_test, y_test))\n"
   ]
  },
  {
   "cell_type": "markdown",
   "metadata": {
    "id": "MWClwhZD6Hvn"
   },
   "source": [
    "Clearly our model is not performing well here. "
   ]
  },
  {
   "cell_type": "markdown",
   "metadata": {
    "id": "g3zzMc7P6Hvn"
   },
   "source": [
    "## Part D\n",
    "\n",
    "To see how much Health contributes to the Happiness Index? With the current pandemic at hand, predicting COVID-19 Cases in the coming days for countries.\n",
    "\n",
    "### Thoughts\n",
    "\n",
    "From Part A, we have realized that Health does play a major role in a country's happiness score. With the current pandemic at hand, we were motivated to look at COVID cases and forecast the upcoming cases. We wanted to compare the COVID data with the happiness index data, however, we felt that it would not give the right results since the happiness index data of 2020 is from the months of January-February when there was not much COVID health crisis happening. \n",
    "\n",
    "However, in pursuit of excitement and interest, we decided to go forth to do a basic forecasting model on COVID-19 dataset using fbprophet."
   ]
  },
  {
   "cell_type": "markdown",
   "metadata": {
    "id": "f5ch037S6Hvn"
   },
   "source": [
    "### What and Why Prophet?\n",
    "\n",
    "Prophet is Facebooks'open source time series prediction. Prophet decomposes time series into trend, seasonality and holiday. It has intuitive hyper parameters which are easy to tune.\n",
    "\n",
    "**Prophet time series = Trend + Seasonality + Holiday + error**\n",
    "\n",
    "Trend models non periodic changes in the value of the time series. Seasonality is the periodic changes like daily, weekly, or yearly seasonality. Holiday effect which occur on irregular schedules over a day or a period of days. Error terms is what is not explained by the model.\n",
    "\n",
    "We believe that the advantages of using Prophet are:\n",
    "+ Accommodates seasonality with multiple periods\n",
    "+ Prophet is resilient to missing values\n",
    "+ Best way to handle outliers in Prophet is to remove them\n",
    "+ Fitting of the model is fast\n",
    "+ Intuitive hyper parameters which are easy to tune"
   ]
  },
  {
   "cell_type": "code",
   "execution_count": null,
   "metadata": {
    "id": "ValejKcN6Hvo"
   },
   "outputs": [],
   "source": [
    "#hide\n",
    "# Taking inputs from the user\n",
    "country='India'       # User Input 1\n",
    "column='new_cases'    # User Input 2\n",
    "forecast_period=30    # User Input 3"
   ]
  },
  {
   "cell_type": "code",
   "execution_count": null,
   "metadata": {
    "colab": {
     "base_uri": "https://localhost:8080/",
     "height": 617
    },
    "id": "UHcBUDhG6Hvp",
    "outputId": "afd23cb5-6241-4305-ecdb-afe15196bd08"
   },
   "outputs": [],
   "source": [
    "#hide_input\n",
    "#Reading DataFrames\n",
    "df= pd.read_csv(\"https://covid.ourworldindata.org/data/ecdc/full_data.csv\")\n",
    "df = df[df['location']!='Hong Kong']\n",
    "df['date'] = pd.to_datetime(df['date'],utc=False)\n",
    "data=df[df['location']==country][['date',column]].rename(columns={\"date\":\"ds\",column:\"y\"})\n",
    "\n",
    "#Initializing Model\n",
    "m=Prophet(seasonality_mode='additive',yearly_seasonality=True,weekly_seasonality=True,daily_seasonality=True)\n",
    "\n",
    "#Fitting Data\n",
    "m.fit(data)\n",
    "#Making Future Predictions\n",
    "future=m.make_future_dataframe(periods=forecast_period)\n",
    "forecast = m.predict(future)\n",
    "\n",
    "#Visualizing Forecast\n",
    "fig=plot_plotly(m, forecast)\n",
    "fig.update_layout(\n",
    "title=\"Forecasting for \"+str(forecast_period)+\" days for the \"+column+\" in \"+country,\n",
    "xaxis_title=\"Date\",\n",
    "yaxis_title=column)\n",
    "display(HTML(fig.to_html(include_plotlyjs='cdn')));\n"
   ]
  },
  {
   "cell_type": "markdown",
   "metadata": {},
   "source": [
    "### The performance of the model"
   ]
  },
  {
   "cell_type": "code",
   "execution_count": null,
   "metadata": {},
   "outputs": [],
   "source": [
    "#hide\n",
    "import warnings\n",
    "import logging\n",
    "# Turn off pystan warnings\n",
    "warnings.simplefilter(\"ignore\", DeprecationWarning)\n",
    "warnings.simplefilter(\"ignore\", FutureWarning)\n",
    "\n",
    "# Turn off fbprophet stdout logger\n",
    "logging.getLogger('fbprophet').setLevel(logging.ERROR)"
   ]
  },
  {
   "cell_type": "code",
   "execution_count": null,
   "metadata": {
    "colab": {
     "base_uri": "https://localhost:8080/",
     "height": 730,
     "referenced_widgets": [
      "6692a3ab55f74f90b0ded09273a97b2f",
      "d4a052488beb4551a867ebe39129ea7e",
      "9278ee61b1b24bf299455e64c5b2ab1a",
      "79de6ef06c1b47e79a98810bbb2870c2",
      "3c05bf16c653451196aa3c5ef622a6ff",
      "ac6495e75c474aadb4b03a787d9c44ae",
      "65a778a03bea491683ecc4fad3adf878",
      "2ce8b18d790d47dda18c675951f9dbb4"
     ]
    },
    "id": "5YyfYa2N6Hvr",
    "outputId": "c49b716e-e8e6-4f3e-9f14-c528c5d3172f"
   },
   "outputs": [],
   "source": [
    "#hide_input\n",
    "cross_validation_results = cross_validation(m,initial='100 days',horizon=\"50 days\")\n",
    "performance_metrics_results = performance_metrics(cross_validation_results)\n",
    "fig=plt.figure(figsize=(15,10))\n",
    "ax=fig.add_subplot(111)\n",
    "ax.plot(range(31),performance_metrics_results['mape'][:31],marker=\"o\")\n",
    "ax.set_xlabel('Number of days for forecasting',fontsize=16)\n",
    "ax.set_ylabel(\"Mean absolute percentage error\",fontsize=16)\n",
    "ax.set_title(\"Error of the model for the chosen forecasted variable\",fontsize=18)\n",
    "ax.fill_between(range(31), 0, performance_metrics_results['mape'][:31], alpha=.1)\n",
    "ax.set_xlim([0,30])\n",
    "ax.set_ylim([min(performance_metrics_results['mape'][:31]),max(performance_metrics_results['mape'][:31])+.05])\n",
    "ax.spines['right'].set_visible(False)\n",
    "ax.spines['top'].set_visible(False)"
   ]
  },
  {
   "cell_type": "markdown",
   "metadata": {
    "id": "Zqa2tAJo6Hvt"
   },
   "source": [
    "## Part E\n",
    "\n",
    "Creating a Dashbord for viewing COVID-19 Predictions\n",
    "\n",
    "\n",
    "## Our very own COVID-19 Forecasting Dashboard\n",
    "\n",
    "Using the model that we built, we created a COVID-19 Forecasting Dashboard. You can view it in this link:\n",
    "\n",
    "https://covid-prediction.herokuapp.com/\n",
    "\n",
    "Our main motivation here was to be able to learn how to best provide the model outcomes to audience.\n",
    "\n",
    "You can see the code in our file under the name: Covid-pred"
   ]
  },
  {
   "cell_type": "markdown",
   "metadata": {
    "id": "N_XcqlJt6Hvt"
   },
   "source": [
    "# Conclusions\n",
    "\n",
    "+ The data factors being used for calculating the Happiness Index of the countries is not holistic and inclusive. There are other factors to also be considered. GDP per capita seems to be a skewed figure itself and the limitations that GDP poses is highly likely to bias the happiness score.\n",
    "\n",
    "+ We did not find much correlation between no. of terror attacks and happiness index of a country. However, we believe we need to consider more factors & influences pertaining to terrorism for us to properly see the relationship. \n",
    "\n",
    "+ For COVID-19 forecasts, we performed univariate analysis on our historical data, which made us realize that historical data alone might not be sufficient for the prediction. But certainly, this is one of the main predictors and it can be used with other set of predictors to create a more powerful model."
   ]
  },
  {
   "cell_type": "markdown",
   "metadata": {
    "id": "6i3eBTps6Hvt"
   },
   "source": [
    "# Improvements That Can Be Done\n",
    "\n",
    "**Improvement:** Figure out another way to calculate Happiness Index of a country which includes more holistic and inclusive factors\n",
    "\n",
    "Based on our observations, we believe that factors apart from 6 selected need to be considered in order to make accurate happiness index scoring.  A possible improvement would be to research on an alternative way to calculate the index without using GDP per capita as a score \n",
    "\n",
    "**Improvement:** To move into using NLP & Decision Trees for analyzing Terrorism Data\n",
    "\n",
    "Most of the factors in the Terrorism Dataset were text based. Hence, using NLP here will be best for us to understand the influences of the predictor on the response. To improve model prediction, we believe models pertaining to Decision Trees will help. \n",
    "\n",
    "**Improvement:** To move into Multivariate Analysis\n",
    "\n",
    "We forecasted COVID-19 cases using only past data – however, we are aware that historical data alone is not enough to make accurate forecasts. There are many other external factors – our intention was to more or less look at the trend and observe how this trend will move in the future. "
   ]
  }
 ],
 "metadata": {
  "colab": {
   "collapsed_sections": [
    "CXKo1V3r6Hux",
    "mRJQ63BW6Hve"
   ],
   "name": "2020-10-23-A-Countries-Secret-to-Happiness.ipynb",
   "provenance": []
  },
  "kernelspec": {
   "display_name": "rstudioker",
   "language": "python",
   "name": "rstudioker"
  },
  "language_info": {
   "codemirror_mode": {
    "name": "ipython",
    "version": 3
   },
   "file_extension": ".py",
   "mimetype": "text/x-python",
   "name": "python",
   "nbconvert_exporter": "python",
   "pygments_lexer": "ipython3",
   "version": "3.7.1"
  },
  "widgets": {
   "application/vnd.jupyter.widget-state+json": {
    "2ce8b18d790d47dda18c675951f9dbb4": {
     "model_module": "@jupyter-widgets/base",
     "model_name": "LayoutModel",
     "state": {
      "_model_module": "@jupyter-widgets/base",
      "_model_module_version": "1.2.0",
      "_model_name": "LayoutModel",
      "_view_count": null,
      "_view_module": "@jupyter-widgets/base",
      "_view_module_version": "1.2.0",
      "_view_name": "LayoutView",
      "align_content": null,
      "align_items": null,
      "align_self": null,
      "border": null,
      "bottom": null,
      "display": null,
      "flex": null,
      "flex_flow": null,
      "grid_area": null,
      "grid_auto_columns": null,
      "grid_auto_flow": null,
      "grid_auto_rows": null,
      "grid_column": null,
      "grid_gap": null,
      "grid_row": null,
      "grid_template_areas": null,
      "grid_template_columns": null,
      "grid_template_rows": null,
      "height": null,
      "justify_content": null,
      "justify_items": null,
      "left": null,
      "margin": null,
      "max_height": null,
      "max_width": null,
      "min_height": null,
      "min_width": null,
      "object_fit": null,
      "object_position": null,
      "order": null,
      "overflow": null,
      "overflow_x": null,
      "overflow_y": null,
      "padding": null,
      "right": null,
      "top": null,
      "visibility": null,
      "width": null
     }
    },
    "3c05bf16c653451196aa3c5ef622a6ff": {
     "model_module": "@jupyter-widgets/controls",
     "model_name": "ProgressStyleModel",
     "state": {
      "_model_module": "@jupyter-widgets/controls",
      "_model_module_version": "1.5.0",
      "_model_name": "ProgressStyleModel",
      "_view_count": null,
      "_view_module": "@jupyter-widgets/base",
      "_view_module_version": "1.2.0",
      "_view_name": "StyleView",
      "bar_color": null,
      "description_width": "initial"
     }
    },
    "65a778a03bea491683ecc4fad3adf878": {
     "model_module": "@jupyter-widgets/controls",
     "model_name": "DescriptionStyleModel",
     "state": {
      "_model_module": "@jupyter-widgets/controls",
      "_model_module_version": "1.5.0",
      "_model_name": "DescriptionStyleModel",
      "_view_count": null,
      "_view_module": "@jupyter-widgets/base",
      "_view_module_version": "1.2.0",
      "_view_name": "StyleView",
      "description_width": ""
     }
    },
    "6692a3ab55f74f90b0ded09273a97b2f": {
     "model_module": "@jupyter-widgets/controls",
     "model_name": "HBoxModel",
     "state": {
      "_dom_classes": [],
      "_model_module": "@jupyter-widgets/controls",
      "_model_module_version": "1.5.0",
      "_model_name": "HBoxModel",
      "_view_count": null,
      "_view_module": "@jupyter-widgets/controls",
      "_view_module_version": "1.5.0",
      "_view_name": "HBoxView",
      "box_style": "",
      "children": [
       "IPY_MODEL_9278ee61b1b24bf299455e64c5b2ab1a",
       "IPY_MODEL_79de6ef06c1b47e79a98810bbb2870c2"
      ],
      "layout": "IPY_MODEL_d4a052488beb4551a867ebe39129ea7e"
     }
    },
    "79de6ef06c1b47e79a98810bbb2870c2": {
     "model_module": "@jupyter-widgets/controls",
     "model_name": "HTMLModel",
     "state": {
      "_dom_classes": [],
      "_model_module": "@jupyter-widgets/controls",
      "_model_module_version": "1.5.0",
      "_model_name": "HTMLModel",
      "_view_count": null,
      "_view_module": "@jupyter-widgets/controls",
      "_view_module_version": "1.5.0",
      "_view_name": "HTMLView",
      "description": "",
      "description_tooltip": null,
      "layout": "IPY_MODEL_2ce8b18d790d47dda18c675951f9dbb4",
      "placeholder": "​",
      "style": "IPY_MODEL_65a778a03bea491683ecc4fad3adf878",
      "value": " 6/6 [00:11&lt;00:00,  1.99s/it]"
     }
    },
    "9278ee61b1b24bf299455e64c5b2ab1a": {
     "model_module": "@jupyter-widgets/controls",
     "model_name": "FloatProgressModel",
     "state": {
      "_dom_classes": [],
      "_model_module": "@jupyter-widgets/controls",
      "_model_module_version": "1.5.0",
      "_model_name": "FloatProgressModel",
      "_view_count": null,
      "_view_module": "@jupyter-widgets/controls",
      "_view_module_version": "1.5.0",
      "_view_name": "ProgressView",
      "bar_style": "success",
      "description": "100%",
      "description_tooltip": null,
      "layout": "IPY_MODEL_ac6495e75c474aadb4b03a787d9c44ae",
      "max": 6,
      "min": 0,
      "orientation": "horizontal",
      "style": "IPY_MODEL_3c05bf16c653451196aa3c5ef622a6ff",
      "value": 6
     }
    },
    "ac6495e75c474aadb4b03a787d9c44ae": {
     "model_module": "@jupyter-widgets/base",
     "model_name": "LayoutModel",
     "state": {
      "_model_module": "@jupyter-widgets/base",
      "_model_module_version": "1.2.0",
      "_model_name": "LayoutModel",
      "_view_count": null,
      "_view_module": "@jupyter-widgets/base",
      "_view_module_version": "1.2.0",
      "_view_name": "LayoutView",
      "align_content": null,
      "align_items": null,
      "align_self": null,
      "border": null,
      "bottom": null,
      "display": null,
      "flex": null,
      "flex_flow": null,
      "grid_area": null,
      "grid_auto_columns": null,
      "grid_auto_flow": null,
      "grid_auto_rows": null,
      "grid_column": null,
      "grid_gap": null,
      "grid_row": null,
      "grid_template_areas": null,
      "grid_template_columns": null,
      "grid_template_rows": null,
      "height": null,
      "justify_content": null,
      "justify_items": null,
      "left": null,
      "margin": null,
      "max_height": null,
      "max_width": null,
      "min_height": null,
      "min_width": null,
      "object_fit": null,
      "object_position": null,
      "order": null,
      "overflow": null,
      "overflow_x": null,
      "overflow_y": null,
      "padding": null,
      "right": null,
      "top": null,
      "visibility": null,
      "width": null
     }
    },
    "d4a052488beb4551a867ebe39129ea7e": {
     "model_module": "@jupyter-widgets/base",
     "model_name": "LayoutModel",
     "state": {
      "_model_module": "@jupyter-widgets/base",
      "_model_module_version": "1.2.0",
      "_model_name": "LayoutModel",
      "_view_count": null,
      "_view_module": "@jupyter-widgets/base",
      "_view_module_version": "1.2.0",
      "_view_name": "LayoutView",
      "align_content": null,
      "align_items": null,
      "align_self": null,
      "border": null,
      "bottom": null,
      "display": null,
      "flex": null,
      "flex_flow": null,
      "grid_area": null,
      "grid_auto_columns": null,
      "grid_auto_flow": null,
      "grid_auto_rows": null,
      "grid_column": null,
      "grid_gap": null,
      "grid_row": null,
      "grid_template_areas": null,
      "grid_template_columns": null,
      "grid_template_rows": null,
      "height": null,
      "justify_content": null,
      "justify_items": null,
      "left": null,
      "margin": null,
      "max_height": null,
      "max_width": null,
      "min_height": null,
      "min_width": null,
      "object_fit": null,
      "object_position": null,
      "order": null,
      "overflow": null,
      "overflow_x": null,
      "overflow_y": null,
      "padding": null,
      "right": null,
      "top": null,
      "visibility": null,
      "width": null
     }
    }
   }
  }
 },
 "nbformat": 4,
 "nbformat_minor": 4
}
